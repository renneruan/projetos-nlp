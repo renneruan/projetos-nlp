{
 "cells": [
  {
   "cell_type": "markdown",
   "metadata": {},
   "source": [
    "# Atividade 2: Modelo Bigrama\n",
    "Aluno: Rennê Ruan Alves Oliveira - Matrícula 242101209 - PPGI\n",
    "\n",
    "Esta atividade tem como objetivo a reprodução de um modelo Bigrama para a geração de texto.\n",
    "\n",
    "Temos como objetivo:\n",
    "- Dividir o corpo de entrada em dados de teste e treino\n",
    "- Criar o modelo bigrama com geração de texto como exemplo.\n",
    "- Calcular a perplexidade dos dados de teste no modelo treinado.\n",
    "\n",
    "Para este projeto foi utilizado um ambiente de execução Python 3.11 criado a partir do gerenciador Anaconda.\n",
    "\n",
    "Foi utilizado os pacotes Torch e nltk\n",
    "\n",
    "Se torna necessário também que o corpo disponibilizado esteja no mesmo diretório que este notebook na pasta corpus/ contendo os arquivos JSONs a serem analisados.\n",
    "\n"
   ]
  },
  {
   "cell_type": "code",
   "execution_count": 1,
   "metadata": {},
   "outputs": [
    {
     "name": "stderr",
     "output_type": "stream",
     "text": [
      "c:\\Users\\renne\\anaconda3\\envs\\nlp_activities_dl\\Lib\\site-packages\\torch\\_subclasses\\functional_tensor.py:295: UserWarning: Failed to initialize NumPy: No module named 'numpy' (Triggered internally at C:\\actions-runner\\_work\\pytorch\\pytorch\\builder\\windows\\pytorch\\torch\\csrc\\utils\\tensor_numpy.cpp:84.)\n",
      "  cpu = _conversion_method_template(device=torch.device(\"cpu\"))\n"
     ]
    }
   ],
   "source": [
    "from load_split_data import CorpusLoader\n",
    "from bigram_model import Bigram"
   ]
  },
  {
   "cell_type": "markdown",
   "metadata": {},
   "source": [
    "Devido ao espaço utilizado pela matriz de probabilidade, considerando a tokenização realizada pelo pacote NLTK, foi possível realizar o treinamento com apenas 1500 arquivos do corpo fornecido para a memória RAM disponível na máquina utilizada.\n",
    "\n",
    "Os dados de treino foram divididos em 80% dos tokens lidos."
   ]
  },
  {
   "cell_type": "code",
   "execution_count": 7,
   "metadata": {},
   "outputs": [
    {
     "name": "stdout",
     "output_type": "stream",
     "text": [
      "Divisão de tokens por palavras\n",
      "Lendo 1500 arquivos.\n"
     ]
    },
    {
     "name": "stderr",
     "output_type": "stream",
     "text": [
      "100%|██████████| 1500/1500 [00:13<00:00, 112.78it/s]\n"
     ]
    },
    {
     "name": "stdout",
     "output_type": "stream",
     "text": [
      "Separando pedaços de teste e treino, aguarde...\n"
     ]
    },
    {
     "name": "stderr",
     "output_type": "stream",
     "text": [
      "100%|██████████| 1500/1500 [00:00<00:00, 20354.84it/s]"
     ]
    },
    {
     "name": "stdout",
     "output_type": "stream",
     "text": [
      "Tamanho de texto de teste: 1920678\n",
      "Tamanho de texto de treino: 480174\n"
     ]
    },
    {
     "name": "stderr",
     "output_type": "stream",
     "text": [
      "\n"
     ]
    }
   ],
   "source": [
    "cl = CorpusLoader(\"word\")\n",
    "cl.read_all_files(\"corpus/\", 1500)\n",
    "train_data, test_data = cl.split_test_train(0.8)"
   ]
  },
  {
   "cell_type": "code",
   "execution_count": 8,
   "metadata": {},
   "outputs": [
    {
     "name": "stdout",
     "output_type": "stream",
     "text": [
      "Tokens únicos analisados: 139378\n",
      "Realizando treinamento de modelo bigrama\n"
     ]
    },
    {
     "name": "stderr",
     "output_type": "stream",
     "text": [
      "1920677it [00:30, 63166.85it/s]\n"
     ]
    }
   ],
   "source": [
    "bg = Bigram(smoothed=False)\n",
    "bg.train(train_data)"
   ]
  },
  {
   "cell_type": "markdown",
   "metadata": {},
   "source": [
    "Gerando 4 textos com o modelo criado, os textos são gerados a partir do token `<start>` e finalizam automaticamente ao ser gerado um token `<end>`."
   ]
  },
  {
   "cell_type": "code",
   "execution_count": 10,
   "metadata": {},
   "outputs": [
    {
     "name": "stdout",
     "output_type": "stream",
     "text": [
      " O Massacre em vigor da teoria da infecção intracelular é baseado em Salvador dos pobres.* O próximo a escravidão em compreender e de Eleições diretas da insurreição de 2007 a desmaiar, onde permaneceram na Síria, comraio-X em todo o imposto, na parte da Espanha pela morte, teve a determinação da cidade. A propina, o complexo. Página visitada em 8 abr 1998|| 6 2008), Music Box, dos anos de oposição a SEATO( m. Em 1916 —|| LINEAR|| Socorro|| 4 de 2010. LAMPRECHT,p. 277 4 de agosto de guerra de vários ramos que tenham sido recebido pelos oponentes. Categoria:* 2003, princesa Maria, embora o regime de fevereiro de Almendralejo a resposta ao grupo. Entretanto, Flavio Canto* Giulia Maria da reforma administrativa nacional da obra e Dan McCafferty- Série B ’ ’ opposition to Coast of Turkish Weekly Shōnen Jump: Desportistas do país. 1938- Sistemas Especialistas em homenagem a Copa do Funchal, anarcafeminista e astrônomo e Zak Starkey ainda está localizada na unidade subordinada ao mesmo, matemático e, América Desempenho na parte do estado da personalização da sua sobrinha'' também== Lista ordenada pelo próprio sistema, na França* 1963. 1626, dos linfócitos T Stage( Havana. Este, São 20 mar 1998|| —|| Tautenburg Observatory|| Kitt Peak|| LINEAR|||| Phocaea|| 8 ago 1990 a sua mãe de Publicações Ediclube, 1975 Edgardo Mercado Modelo Calibre Ref. As regiões fronteiriças da série de buffer que sempre corroborados pela PM Paulo)* grego( 1948–)* 1987, residência é localizado no bairro do tradicional de`` Top 40) se envolver com a admiravam e 2003).== Revisões constitucionais sobre o mundo e búlgaras o`` Comissão de o passar a seu marido de imigrantes portugueses na Bundesliga 2 7 de uma forma truncada pela dificuldade para realizar incansáveis turnês do Bispo), em 3( a promovam; Dynamite Tommy Finney, sede do Pico do carro.Estud.filos. Deste momento em sua infância; e sudoeste a 1ª Divisão 4: Cantores do Rio de umpaís-sede, 1966 e Secundário António(NCC-74656) 0 a Nona Legião de East Sussex, afirma`` Fé, Stanley, 1996). A dupla de segunda divisão,P.M. Tombelli||K. Korlević|| —|| 24 ago 2000|| —|| 28 000 pessoas que geralmente descartada porque acreditamos que um formato de apoio do país. No senado e mudou o rio chamado Frederico III Evérgeta, Wii). Em março de melhor resultado de janeiro de mando do que levou muitos trapaceavam a maior parte mais o levou à elite com diversos personagens e Maninho- Início do candomblé e fabricação de São Paulo, compositor e Porfírio, em um ícone da Silva, habitantes e se encontra resistência e “ Estudo de origem europeia em seu reino de Orange- RPA 5 1514.558 152 mil marcos que Poitier foi preso condenado a República de 1923), Torne* 1978 realizada por desafiar a maioria absoluta, 2007 Alberto Contador29-03-2007 Fase 5).*`` Nosso://metalreels.com/helloweenvinyl/* Uganda). O aeroporto, mais recebe o suficiente para as duas vitórias sobre merecimento também a Apple também representam cerca de 1936|| 8 dez atrações turísticas: Antigas freguesias de qualquer outro lado de 2 dez 1931* Dallas Defesa TP Mazembe Malama Defesa TP Mazembe Sinkala Defesa pode ser feita nasAméricas.Lovejoy, realizou no local e Tetsuzan, Figueira da Libéria) seriam excluídos têm dificuldade em 13 out 2000|| Kitt Peak|| NEAT|||-id=660bgcolor=# Profilaxia Primária:`` peso político espanhol.===Géneros=== A luminância não deixar a Miguel Reale, concluiu em dezembro e uma estratégia, que tinha pago impostos não tem ainda agrupadas por um atleta português( STA)* Portas de Barros===* 1865, com a Pintura.* Écrits de Braga, Terra deve enfrentar vários notáveis daquele ano seguinte, 0 2 19\\. Praticamente sem assinar, que foi marcado definitivamente abandonado, e as células, controle necessária.* Aviação civil permanentes, a primeira tentativa inicial para proteção infantil ao invés delas a 22 de Bonito, um jejum foi embora a música`` a bola, na Praça Comendador da Ordem de 2010)* 1941* Dynamic random access memory- Reflections on Rock in Hoisdorf( 1 269 1 0 a qual os macrófagos podem perdurar ao desenvolvimento do total de uma taça a 70 494 71 km A causa de enriquecimento de anos, Duduca, a Era''.; em 1992 Detalhes Los Cármenes: Recordistas==* 2020. O rastreio.* Turner se referir a linguagem verbal ou Menteri Besar, ator canadense.==* David Letterman, qaraʔa'ele escreveu anonimamente, vamos dizer o primeiro, Aveloso, Marcelo Rossi, provavelmente, geólogo e no Spotify* Amoxipoten- China 46 Riverton Mussi Ramostornaram-se os golpes possuíam mais longo do episódio intitulado`` Este Santa Cruz Santa Maria de “ quando o seu tempo depois de painéis que varia entre os antigos móveis e Ventosa* Luis Fernández 1935–1947 24 jun 1993 What'll be current situation, 2013 – 11 e pela Alemanha 5 de Bragança, e Zé Reinaldo Fernandes de faixas, sendo que o segundo lugar à Igreja Matriz era dedicado 75. 1990 e imigrantes poloneses são os apresentadores Beat the Casbah 2015 — Jacopo Peri É dessa licença para amarrar as dissidências com a existência nem na invetiva, abra mão da Marinha dos Combine Advisors, já tinha mais de 1964** Ao final do império tais projetos gratuitos e em abril Porto Rico Medeiros1978-1981 Sillos de 1949, Bassarabe Laiotă,J.C. and water pipe( Reino Unido Categoria: Vlad, a criança por`` Fly( terceira vez doses cada fase ainda conexões simultaneamente os aparelhos dedicados e irmão e as tábuas da JAC, acordos levam um massivo. The Midnight Hour( n. Outras obras de Tropas, a rixa das Finanças Categoria:`` Ant& 1 cm de Pilares)* 1846), propano( 1897) e dos Estados Unidos 3 nov 1999|| Socorro|| — Gilbert, mais íntima durante um anarquista individualista Renzo Piano Society descrevendo o rodeia.* União Democrática Africana I sobe e cantor e um funcionário da Europa eex-maçons, recuperar o fadista portuguesa da OTAN OR–9 OR–8 OR–7 OR–6 OR–5 OR–4 OR–3 OR–2 OR–1 Insígnia de Copas do. No mês,ex-jogador e consegue a Down escreveu uma propriedade cruzada contra o DNA Propaganda Nacional( março, um grupo C* Os primeiros registos históricos e seu estúdio de eventos musicais, as obrigações do Reino de 1988 AL): Mecânica no Rio Grande.* 1912, administrada por HSV1, e do Império Hitita. O Menino Maluquinho. Ele até o perímetro desta vez que desejava, Lisa Owen E. Cherubini, foi adquirida pelo caminho para mulheres. Isso possivelmente, no quesito, que foi a todos os tabajaras logo descontinuada em quadrinhos Categoria: rgb( 2017–2018)=== Século XXI, Felipe Roseno e não ser paga às pontas das Nações Unidas( London, ao eurocentrismo== Etiologia==* 17 abr 1997, o equipamento hospitalar, embora operasse com uma série, os japoneses e ferindo outras funções padrão, v. Domenico Scarlatti Categoria: A cantora e Joquebede( 47 000 liras, sendo raptados. 1877 Marsden, integrantes da Prata Bronze Jogos Olímpicos de Canudos. 1985 PT 4 out 2000|| Oizumi|||| 8 — 26 de onde só conservada na região era uma declaração: Engenheiros da comarca de imagem e fé. O Papa Clemente Pinto Balsemão, engolindo a última desencadeará a 22 de teste lateral, Gloria e`` O município passa pela tela=== Complicaçõesextra- hepáticas pouca preocupação em 9- 122 playoff)* Gary Medel, Newton;* Noomi Rapace, prevista inicialmente constituída apenas a todo o time que existam outros.* 1993|| 41,240 Total Film Awards,p. 125 mil reais, diplomata bahamense estadunidense( 6 fev 2002|| 5 de la Gendarmerie Nationale des morts. Felizmente, escreveu: UFPB, mas a um dos Meninos e Kuririn, Joseph Pholien, lançada como uma vez do planeta sobre o Colar da cidade durante a até meados do G1, estreia mundial de melhor direção de comando japonês(2014-2016). Lisboa 2ª edição. Por exemplo em quirguiz.== Diagnóstico e um colar dourado, uma memória;=3302403| latP=|align=''+`` Vem Para Toshio Suzuki, angariou seguidores de Cassatt não metálicos, bem explorar e ator estadunidense.* Jessy Antônio Celso Trindade.=== Século XX, tacrolimus, gangorras ou livre chamado Massacre do Brasil( Paraíso( n. A equipe de televisão. Em outras três dias, como Nada( fibra mielinizada a Juárez Voz e o torneio, 1953, nomeado pelas áreas, como proteção dos jurados.* Ordem do técnico* Apter, desconhecido na África. No ano. Elas são de volta por dois novos encontros silenciosos, em 1690 — Étienne Hirsch( Logos)( os gibelinos).* Francis Bacon. A penúltima alegoria, Elektra são frequentemente tomadas de final, serviu de diagnóstico de Janeiro de Jesus responde àsinfra-estruturas que transcendesse tudo como De Gendt, e East Sussex League Division – 0 1 de 1934 Quarto Campeonato Brasileiro em volta de uma comuna do Império do ano anterior, estilista, que ele era de julho de 2019 a 31 de que não só aumentou. O Balconista).( dʕ);* sucede a particulares de futebol grego. Operou algumas vezes em 1953, letristanorte-americano.===Encontro com novo Senhor da imagem de Boyle à época. Vitorino de Lisboa: 2014), já foi contratado pelo senhor da China funcionavam astoupeiras-douradas, Mangueira Querida''. The African Queen''.. Virology: À morte em, finalmente o ângulo muito deteriorado e que o André Marques, o corpo do Norte é feita depois de Estado do município está o seu tamanho nulo e3.ª Conservatória do vocabulário e de setembro e 17 de semana. Gravados no Rock and Genera of Work in salamanders::* 1815 — O resultado de vida.Y. Oshima|| LINEAR|| F. Para ganhar a Hungria( um quarteto escocês, as mídias a Sul- Burgos e, sendo liberado# F1F1F1| 24084 Teresaswiger|| 8 de bola oficial da oposição. Pois eram extraídas dos jogos da remixagem de Gargoris e discriminadas no âmbito do Grajaú, mas pode ser sentidas. É de Sanvicente, com um dialeto. Com aPorta- bandeira nacional de 1916) ainda não apenas uma classificação mundial Expo 9816.483 99.== Legado==* Associação Cultural José Ernesto Albarracín, onde ficou para EmbraerEMB-145 AEW existentes em sua vida que não controladas=== Formação e pintos), vítima de Algodres<end>\n",
      " \\-- antiga pátria. Ninja do lado do Conselho Regional Interior de Ruins, Lealdade e Desenvolvimento== Exemplos notáveis==* Príncipe da TV Globo teatro não proíbe a luta. Apesar de Konqi também se Matsumura, 2011, 3 vocalistas. Dorotéia 2016–18 Não se tratar de Jor* 1841 —|| 8 dez 1999|| — Edith Pye estabeleceu um grupo das províncias: Documentos Categoria: Extinções em 2013. 53–150 Em 29 fev 1999|||-id=353bgcolor=# FAFAFA| 86933|||-id=336bgcolor=# O Estado do mesmo espaço de Julho=== Desde esse personagem favorito, que se classificou Não se sozinho o atendimento médico diagnosticar o veículo e Instalações Conselho Revolução Francesa contra a se divorciou do Itaim locationmap.svg| 29710|| 6 metros sobre a escrever karatê;* Laranja Mecânica''), se tornaria o resultado final foi condenado à escala coordenadas 6°28' X( 2016, a Tubman na atual Chéquia), foi eleito foi provavelmente por outro voo, o Dortmund Prass Médio Paradou AC), dramaturgo suíço( 1981 Não se segue lançando, chamados de 3 out 1998|| —|| —|||| — Fundação da distribuição dos anos1990=== Em 1969)- Vila de Deus Super Smash HitsV.S. Arend|||-id=364bgcolor=# FAFAFA| 29583|| 29 out 1999|||-id=429bgcolor=# F1F1F1| 1870 —|||| —|| 19 24 na formação, Wolf'', e é determinado momento, sinalizadas com injeção monoponto) Sexto Dia da ferrovia Transnordestina, para o obrigava a supervisão de ser colonizada pelos Muçulmanos desde 2022 União de agosto- Série C. A 36ª edição de maio foi inaugurado em Species Plantarum 1( pois este último episódio 31 de Julho de Joseph* Castelo de tecido adiposo explica a vida de agosto de Kantō, o incêndio de Sória( Nº Fotografia Presidente dos seres míticos incluem a sua cultura Lacaz, três semanas até 2 0 1 e acadêmicoaustro-suíço( 4- Série D. No calendário gregoriano. Se o Corpo, enquanto cidadãos comuns, a falecer na Igreja Nova de pureza racial, autor de Santo António de Taiwan, um capitalismo é quantizada comsuper-poderes após a produzir uma taxa de autodefesa que Stanley pensa ter com emissoras também==* Sombra e o criador do Mundo a frequência cardíaca. 1962* Sociedade Cruz da Universidade Clássica,30/6/20008Guarda-Redes Defesas Médios Avançados Yevhen Rudakov Revaz Dzodzuashvili Murtaz Khurtsilava Franz e a Universidade de Isabel Salema de novembro de origem dácia, não passou de um grama, o público. Os sintomas são capazes de só no mesmo muitos dos Generais( m.(1561-1636). Centro de tempo. Isso ficou conhecido como a sua casa e os demais grupos, Van Gogh vinha conseguindo a atriz brasileira. Llanos, que nunca se incorporava à regra do desfile sobre a criança. Na Idade Média, mas isso também referida como uma armadilha para os dois tratores. Em particular. Os especialistas em partes adjacentes, estas divisões do Porto de agosto e jornalista, associações, o Forte de Beaumont, o voo Spanair 5022 Roccapalumba|| LINEAR|| Socorro|| —|| LINEAR|| —`` dinheirista''.|| 30 nov 1999|| Brangane|| 27 nov 1999|| 1995|| LINEAR|| 23 jul 1999|||-id=733bgcolor=# F1F1F1| 5497 Sararussell|| Spacewatch|| 29 jul 1998|| 1927 QB|| 18 ago 2000|| Catalina|||-id=891bgcolor=# F1F1F1| 68507|| Socorro|| 12 mai 2002|| 22 de face escura.==* Severino Bispo, se classificou Não havendo apenas quem me agrado'',> Ele também== Bibliografia===== Religião=== Outubro de Earhart( o período de livrar seus planos, Fabiana Karla, Belo Horizonte* OliviaNewton-John*<end>\n",
      " Leticia afirmou ter barba rala e subtrópicos, porali.SARMENTO; Linha 2018, diversos tem origem nos Estados Unidos, Lithobiomorpha, Reino Unido. Castigada deste.*07/08/2008* Casa Amarela. Os seus receptoresligam-se a 19ª maior revés com Frusciante, automobilista alemão(1.638 metros de topônimos russos foi, no Chemnitzer na água), um grupo de dólares por Thiago Pampolha 1º- Elio Gaspari, Sokugui Taikyoku sono prejudica a dietas cetogênicas e o banco de Esquerda* Grimal, e Leticia 1991 HO|||||||-id=404bgcolor=# FAFAFA| 44954|| 1999, bem como Vishnupadi, somente 5 5 de Campinas( mais e morrer, Massachusetts( Ohio possui um município era muito pouco o rei Vítor Emanuel Fernandes e romance e Rita Andrade e sociólogo e após a uma reunião em 1890 1900 —|| Socorro|| Palomar|| 30 de 1985-( n. Era membro da Rússia, de julho de liquidação após 1974|| —|||-id=470bgcolor=# E3E3E3| 24845|| Socorro|| 5 000 km2# E3E3E3| 74767||S. Ueda, Roterdã 1–2. Começou estudos na cavidade onde nada. Essa teoria do Sistema de novos no padrão de 200 Gy( n. Em seguida veio para os vendedores de Física e político austríaco(1.5%17,2% de 16 nov 1999|| LINEAR|||| 29 de cinco anos, ele se perdêssemos o melhor vantagem.== Estatísticas=== No passado nunca promulgados. Cerca de lista de três quilômetros quadrados, a banda da corte de 2004<end>\n",
      "{v_j\\\\}== Ano Div. É mais respeitável – PROFLETRAS e Mafalda* Necrópole de 1986 RA|||||-id=508bgcolor=# F1F1F1| 88902|||-id=240bgcolor=# FAFAFA| 74923||E.F. Helin, Eisenhower,`` Resposta''( m. 1943, zero.* 1980 Categoria:`` Deus, os outros integrantes vestiam fraque e cloreto formados no mesmo.M.; a ficar com as poses de Governo Governo maioritário 1972|| Anderson Mesa|||-id=457bgcolor=# F1F1F1| 86918|||-id=904bgcolor=# E3E3E3|}===== Fim do tempo, Pete Agnew fundou a de Alfredo Simonetto, o acompanhou a resposta assíncrona nas finais e uma das eliminatórias. Veterano, o título nacional em 1998|||-id=368bgcolor=# F1F1F1| 74135|| 8 campeonatos com lígulas brancas, compositor.* 1901 31 mai 1997|||-id=394bgcolor=# Pedernales) 0 1 A 28 ago 2000|||-id=008bgcolor=# E3E3E3| 36614 Saltis|| —|| 28 de aprimoramento da energia nuclear. Euro 1976 Detalhes Tóquio''. Doze Mós, a I e chegava atrasado. A personagem, matando Niko) Renato Lage, em White em alambique com manchas amarelas, aparentemente, herdeira presuntiva do medalhão de Jesus tendo como também, é uma população estimada em inglês e chamada Krystal no começo da Amazônia que ele, tendo como “ Distinguished Flying Car, há três meses. 1ed. O papa Bonifácio Andrada( Paulista de meramentesul-americano, Forte do Itaguaí Futebol. 7 fev 1995. De La Silla|| Socorro|| Spacewatch|| — El Roble|||-id=377bgcolor=# F1F1F1| 74550|| 22 fev 1991.** Silverlake Conservatory Theatre.2a-edição. Emprega mais alta também competia ao catolicismo,K. Endate, que a turnê nomeada Londínio, cuja união civil a concepção teleológica. Os jacobinismos( entre o Londrina). Nesse choque, ligando a respostaimune.R.M. Mais de Viana 1948*''.* 1959)* 2006 e as tropas de Sítios, Lavos, maior de foot ball, Niko, editor, sendo bem descuidada, ciclista italiano. Ainda sim a mesma quantidade( m. Alguns de 1 10 1( m.'' Se isso, fazia isso, Abedim)=== Bibliografia. Kluwer Academic Publishers. Istodesigna-se`` Dona Beija( n. o ASA empatou a designação`` Who daria continuidade no homem negro e o ano, a atmosfera das armas''. Um exemplo: Tn River Deep, sendo que cada100.000 habitantes- Mutations tão rapidamente entrou no estado, com trabalhistas. Pequenas quantidades extremamente pesado que passaram grande fama: Coreia dos bombardeios sobre a idade, estipulando uma estátua do Paraná( privado e se referir a Vida selvagem== Exposições coletivas==* Revolta Paulista de Suez de Agosto de1215.thumb|direita|upright=1.0|Nascimento de menagem ou mesmo nome derivou de janeiro- Reaper** Solar 2º Marcoalemão-oriental, L& Chandra|| LINEAR|||-id=264bgcolor=# FAFAFA|fim_mandato= KianFitz-Jim|c3_j4_num= FFFFFF| 68739|||| 9 set 1998|| Socorro|| 16 set 1999, têm direito brasileiro.===** BethanieMattek- Sands, tanto no Reino do mês do Programa Flávio- Bette Davis, Torre Ostankino 1967. Em 1999|||| Kitt Peak||C. Jackson|||| Socorro|| SCAP|||-id=129bgcolor=# E3E3E3| 49523|| Nacogdoches|| —|| 26 set 1998|| LINEAR|||-id=391bgcolor=# F1F1F1| 49551|||-id=413bgcolor=# FAFAFA| 33166|||| 25 de novembro de Kitagunma) 1990|| Socorro|| Socorro|||-id=223bgcolor=# E3E3E3| 31820|| LINEAR|||||||||-id=717bgcolor=# FAFAFA| 68678|| —|||-id=698bgcolor=# E3E3E3| 1632| 31592 Jacobplaut|| — John, a 957 m. Ele muitas vezes chamados pelo qual se Classificou Não se locomovendo apoiando menos eu acabava o último. Em seguida, o calendário gregoriano a maior afluência turística integradora dos Guácharos Serra, transportados ao Brentford. No agregador de Christopher Cornelius Schumacher|||| Catalina|| —|||-id=756bgcolor=# FAFAFA| 80524|| Socorro|| LINEAR|| 10 fev 1999|||| — Antonio Carbajal, político. O Bolton morreram logo em 2000|| 7 jan 2000|| —|||| LONEOS|| Spacewatch|| — Alberto Vítor, e o principal objetivo do romance, foi o estatuto de marketing e mente para jornalistas. Desses 800 mg, para rejeitar a 23 ago 1998- Saúde – 45)|partint= orientation: The Enforcer* 3ª pessoa do Castelo de todos os CMCs podem envolver na circulação sanguínea e litoral do ministério de seu nome significa`` Down: Podział administracyjny Chile pl.<end>\n"
     ]
    }
   ],
   "source": [
    "bg.generator(4)"
   ]
  },
  {
   "cell_type": "markdown",
   "metadata": {},
   "source": [
    "Em seguida calculamos a perplexidade dos dados de testes de acordo com o modelo criado, temos um resultado relativamente alto, significando que os tokens utilizados para a criação do modelo não representam tão bem os textos de teste fornecidos."
   ]
  },
  {
   "cell_type": "code",
   "execution_count": 11,
   "metadata": {},
   "outputs": [
    {
     "name": "stderr",
     "output_type": "stream",
     "text": [
      "480173it [02:57, 2704.53it/s]"
     ]
    },
    {
     "name": "stdout",
     "output_type": "stream",
     "text": [
      "45048.9720794299\n"
     ]
    },
    {
     "name": "stderr",
     "output_type": "stream",
     "text": [
      "\n"
     ]
    }
   ],
   "source": [
    "# print(test_data)\n",
    "print(bg.calculate_perplexity(test_data))"
   ]
  },
  {
   "cell_type": "markdown",
   "metadata": {},
   "source": [
    "Quando a perplexidade é calculado para um trecho de texto com tokens que com certeza estão presentes no modelo, temos valores menos."
   ]
  },
  {
   "cell_type": "code",
   "execution_count": 6,
   "metadata": {},
   "outputs": [
    {
     "name": "stderr",
     "output_type": "stream",
     "text": [
      "4it [00:00, 60.18it/s]"
     ]
    },
    {
     "name": "stdout",
     "output_type": "stream",
     "text": [
      "10.671377371057881\n"
     ]
    },
    {
     "name": "stderr",
     "output_type": "stream",
     "text": [
      "\n"
     ]
    }
   ],
   "source": [
    "texto1 = [\"Antigos\", \"municípios\", \"do\", \"Iguaçu\", \",\"]\n",
    "\n",
    "print(bg.calculate_perplexity(texto1))"
   ]
  }
 ],
 "metadata": {
  "kernelspec": {
   "display_name": "nlp_activities_dl",
   "language": "python",
   "name": "python3"
  },
  "language_info": {
   "codemirror_mode": {
    "name": "ipython",
    "version": 3
   },
   "file_extension": ".py",
   "mimetype": "text/x-python",
   "name": "python",
   "nbconvert_exporter": "python",
   "pygments_lexer": "ipython3",
   "version": "3.11.10"
  }
 },
 "nbformat": 4,
 "nbformat_minor": 2
}
